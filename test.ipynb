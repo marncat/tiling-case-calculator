{
 "cells": [
  {
   "cell_type": "code",
   "execution_count": 1,
   "metadata": {},
   "outputs": [],
   "source": [
    "from calc import calc"
   ]
  },
  {
   "cell_type": "code",
   "execution_count": 2,
   "metadata": {},
   "outputs": [
    {
     "name": "stdout",
     "output_type": "stream",
     "text": [
      "Counter({27: 55, 108: 39, 135: 28, 207: 28, 126: 24, 333: 22, 216: 21, 324: 20, 99: 18, 342: 15, 117: 11, 18: 11, 90: 10, 180: 7, 315: 6, 198: 6, 171: 4, 351: 3, 81: 2})\n"
     ]
    }
   ],
   "source": [
    "from collections import Counter\n",
    "from piece import pentomino\n",
    "\n",
    "boards = list(map(lambda x: x.cells_2d, pentomino)) * 3\n",
    "\n",
    "result = calc(boards)\n",
    "\n",
    "result_counter = Counter(result.values())\n",
    "print(result_counter)"
   ]
  }
 ],
 "metadata": {
  "kernelspec": {
   "display_name": "Python 3",
   "language": "python",
   "name": "python3"
  },
  "language_info": {
   "codemirror_mode": {
    "name": "ipython",
    "version": 3
   },
   "file_extension": ".py",
   "mimetype": "text/x-python",
   "name": "python",
   "nbconvert_exporter": "python",
   "pygments_lexer": "ipython3",
   "version": "3.12.1"
  }
 },
 "nbformat": 4,
 "nbformat_minor": 2
}
